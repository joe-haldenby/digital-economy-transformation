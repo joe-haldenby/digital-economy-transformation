{
 "cells": [
  {
   "cell_type": "code",
   "execution_count": 1,
   "id": "734dba3b-2b38-4d06-8d22-35bd9bf5780f",
   "metadata": {},
   "outputs": [
    {
     "name": "stdout",
     "output_type": "stream",
     "text": [
      "All packages imported successfully!\n",
      "Pandas version: 2.2.2\n",
      "Requests version: 2.32.3\n"
     ]
    }
   ],
   "source": [
    "# Digital Economy Transformation Analysis - Project Setup\n",
    "# Testing environment and imports\n",
    "\n",
    "import pandas as pd\n",
    "import requests\n",
    "import matplotlib.pyplot as plt\n",
    "import seaborn as sns\n",
    "from google.cloud import bigquery\n",
    "\n",
    "print(\"All packages imported successfully!\")\n",
    "print(f\"Pandas version: {pd.__version__}\")\n",
    "print(f\"Requests version: {requests.__version__}\")"
   ]
  },
  {
   "cell_type": "code",
   "execution_count": null,
   "id": "c0635743-5396-4d36-beeb-142620ed4692",
   "metadata": {},
   "outputs": [],
   "source": [
    "All packages imported successfully!\n",
    "Pandas version: 2.2.2\n",
    "Requests version: 2.32.3"
   ]
  },
  {
   "cell_type": "code",
   "execution_count": 3,
   "id": "111e5d8f-a8af-4366-a33c-3fb81b914fea",
   "metadata": {},
   "outputs": [
    {
     "name": "stdout",
     "output_type": "stream",
     "text": [
      "Status Code: 200\n",
      "Data received: 4 records\n",
      "Sample record: {'indicator': {'id': 'NY.GDP.PCAP.CD', 'value': 'GDP per capita (current US$)'}, 'country': {'id': 'US', 'value': 'United States'}, 'countryiso3code': 'USA', 'date': '2023', 'value': 82769.4122114216, 'unit': '', 'obs_status': '', 'decimal': 1}\n"
     ]
    },
    {
     "data": {
      "text/plain": [
       "True"
      ]
     },
     "execution_count": 3,
     "metadata": {},
     "output_type": "execute_result"
    }
   ],
   "source": [
    "# Test World Bank API with simple call\n",
    "import requests\n",
    "\n",
    "def test_world_bank_api():\n",
    "    url = \"https://api.worldbank.org/v2/country/USA/indicator/NY.GDP.PCAP.CD\"\n",
    "    params = {'format': 'json', 'date': '2020:2023'}\n",
    "    \n",
    "    response = requests.get(url, params=params)\n",
    "    print(f\"Status Code: {response.status_code}\")\n",
    "    \n",
    "    if response.status_code == 200:\n",
    "        data = response.json()\n",
    "        print(f\"Data received: {len(data[1])} records\")\n",
    "        print(\"Sample record:\", data[1][0])\n",
    "        return True\n",
    "    return False\n",
    "\n",
    "# Test the API\n",
    "test_world_bank_api()"
   ]
  },
  {
   "cell_type": "code",
   "execution_count": 7,
   "id": "e50fde92-7e82-4b5c-b9fd-a33bbc94239a",
   "metadata": {},
   "outputs": [
    {
     "name": "stdout",
     "output_type": "stream",
     "text": [
      "BigQuery client initialized successfully!\n",
      "Project: digital-economy-analysis\n",
      "Test query result: 1\n"
     ]
    }
   ],
   "source": [
    "# Test BigQuery connection\n",
    "import os\n",
    "from google.cloud import bigquery\n",
    "\n",
    "# Set the correct path to your service account key (go up one directory)\n",
    "os.environ['GOOGLE_APPLICATION_CREDENTIALS'] = '../digital-economy-analysis-6a0aae99b01f.json'\n",
    "\n",
    "# Initialize BigQuery client\n",
    "client = bigquery.Client(project='digital-economy-analysis')\n",
    "\n",
    "print(\"BigQuery client initialized successfully!\")\n",
    "print(f\"Project: {client.project}\")\n",
    "\n",
    "# Test query\n",
    "query = \"SELECT 1 as test_value\"\n",
    "result = client.query(query).result()\n",
    "for row in result:\n",
    "    print(f\"Test query result: {row.test_value}\")"
   ]
  },
  {
   "cell_type": "code",
   "execution_count": 15,
   "id": "c8b30934-bdfb-4995-a204-f9b2bb66fcc5",
   "metadata": {},
   "outputs": [
    {
     "name": "stdout",
     "output_type": "stream",
     "text": [
      "Digital Economy Indicators:\n",
      "  gdp_per_capita: NY.GDP.PCAP.CD\n",
      "  gdp_growth: NY.GDP.MKTP.KD.ZG\n",
      "  internet_users: IT.NET.USER.ZS\n",
      "  mobile_subs: IT.CEL.SETS.P2\n",
      "  broadband_subs: IT.NET.BBND.P2\n",
      "  bank_accounts: FX.OWN.TOTL.ZS\n",
      "  tertiary_education: SE.TER.ENRR\n",
      "  urban_population: SP.URB.TOTL.IN.ZS\n"
     ]
    }
   ],
   "source": [
    "# Define indicators for digital economy analysis\n",
    "\n",
    "indicators = {\n",
    "    # Economic Development\n",
    "    'gdp_per_capita': 'NY.GDP.PCAP.CD',\n",
    "    'gdp_growth': 'NY.GDP.MKTP.KD.ZG',\n",
    "    \n",
    "    # Digital Infrastructure  \n",
    "    'internet_users': 'IT.NET.USER.ZS',\n",
    "    'mobile_subs': 'IT.CEL.SETS.P2',\n",
    "    'broadband_subs': 'IT.NET.BBND.P2',\n",
    "    \n",
    "    # Financial Inclusion\n",
    "    'bank_accounts': 'FX.OWN.TOTL.ZS',\n",
    "    \n",
    "    # Human Development\n",
    "    'tertiary_education': 'SE.TER.ENRR',\n",
    "    'urban_population': 'SP.URB.TOTL.IN.ZS'\n",
    "}\n",
    "\n",
    "print(\"Digital Economy Indicators:\")\n",
    "for name, code in indicators.items():\n",
    "    print(f\"  {name}: {code}\")\n",
    "    "
   ]
  },
  {
   "cell_type": "code",
   "execution_count": 17,
   "id": "415713d2-4f75-4691-8f97-c0d501416d8e",
   "metadata": {},
   "outputs": [
    {
     "name": "stdout",
     "output_type": "stream",
     "text": [
      "Fetching data for NY.GDP.PCAP.CD...\n",
      "  Retrieved 12 records\n",
      "\n",
      "Sample data:\n",
      "  country_code    country_name  date         value       indicator\n",
      "0           DE         Germany  2023  54343.226508  NY.GDP.PCAP.CD\n",
      "1           DE         Germany  2022  49686.115458  NY.GDP.PCAP.CD\n",
      "2           DE         Germany  2021  52265.654162  NY.GDP.PCAP.CD\n",
      "3           DE         Germany  2020  47379.765195  NY.GDP.PCAP.CD\n",
      "4           GB  United Kingdom  2023  49463.855462  NY.GDP.PCAP.CD\n"
     ]
    }
   ],
   "source": [
    "# World Bank Data Collection Function\n",
    "import pandas as pd\n",
    "import requests\n",
    "import time\n",
    "\n",
    "def fetch_world_bank_indicator(indicator_code, countries='all', start_year=2010, end_year=2023):\n",
    "    \"\"\"\n",
    "    Fetch data for a specific World Bank indicator\n",
    "    \n",
    "    Args:\n",
    "        indicator_code: World Bank indicator code (e.g., 'NY.GDP.PCAP.CD')\n",
    "        countries: 'all' or specific country codes like 'USA;GBR;DEU'\n",
    "        start_year: Starting year for data\n",
    "        end_year: Ending year for data\n",
    "    \n",
    "    Returns:\n",
    "        pandas DataFrame with cleaned data\n",
    "    \"\"\"\n",
    "    \n",
    "    url = f\"https://api.worldbank.org/v2/country/{countries}/indicator/{indicator_code}\"\n",
    "    params = {\n",
    "        'format': 'json',\n",
    "        'date': f'{start_year}:{end_year}',\n",
    "        'per_page': 1000  # Handle pagination\n",
    "    }\n",
    "    \n",
    "    print(f\"Fetching data for {indicator_code}...\")\n",
    "    \n",
    "    try:\n",
    "        response = requests.get(url, params=params)\n",
    "        response.raise_for_status()  # Raise exception for bad status codes\n",
    "        \n",
    "        data = response.json()\n",
    "        \n",
    "        # Check if we have data\n",
    "        if len(data) < 2 or not data[1]:\n",
    "            print(f\"  No data returned for {indicator_code}\")\n",
    "            return pd.DataFrame()\n",
    "        \n",
    "        # Convert to DataFrame\n",
    "        records = data[1]\n",
    "        df = pd.DataFrame(records)\n",
    "        \n",
    "        # Clean and structure the data\n",
    "        if not df.empty:\n",
    "            df = df[['country', 'date', 'value']].copy()\n",
    "            df['country_name'] = df['country'].apply(lambda x: x['value'])\n",
    "            df['country_code'] = df['country'].apply(lambda x: x['id'])\n",
    "            df = df[['country_code', 'country_name', 'date', 'value']].copy()\n",
    "            df['date'] = pd.to_numeric(df['date'])\n",
    "            df['indicator'] = indicator_code\n",
    "            \n",
    "            # Remove rows with null values\n",
    "            df = df.dropna(subset=['value'])\n",
    "            \n",
    "            print(f\"  Retrieved {len(df)} records\")\n",
    "            return df\n",
    "        \n",
    "    except Exception as e:\n",
    "        print(f\"  Error fetching {indicator_code}: {str(e)}\")\n",
    "        return pd.DataFrame()\n",
    "\n",
    "# Test the function with GDP per capita\n",
    "test_df = fetch_world_bank_indicator('NY.GDP.PCAP.CD', countries='USA;GBR;DEU', start_year=2020, end_year=2023)\n",
    "print(\"\\nSample data:\")\n",
    "print(test_df.head())"
   ]
  },
  {
   "cell_type": "code",
   "execution_count": 19,
   "id": "f1d9647d-ae24-4cf4-aebd-7bf3f0054d86",
   "metadata": {},
   "outputs": [
    {
     "name": "stdout",
     "output_type": "stream",
     "text": [
      "\n",
      "--- Collecting gdp_per_capita ---\n",
      "Fetching data for NY.GDP.PCAP.CD...\n",
      "  Retrieved 984 records\n",
      "✓ Success: 984 records for gdp_per_capita\n",
      "\n",
      "--- Collecting gdp_growth ---\n",
      "Fetching data for NY.GDP.MKTP.KD.ZG...\n",
      "  Retrieved 984 records\n",
      "✓ Success: 984 records for gdp_growth\n",
      "\n",
      "--- Collecting internet_users ---\n",
      "Fetching data for IT.NET.USER.ZS...\n",
      "  Retrieved 357 records\n",
      "✓ Success: 357 records for internet_users\n",
      "\n",
      "--- Collecting mobile_subs ---\n",
      "Fetching data for IT.CEL.SETS.P2...\n",
      "  Retrieved 915 records\n",
      "✓ Success: 915 records for mobile_subs\n",
      "\n",
      "--- Collecting broadband_subs ---\n",
      "Fetching data for IT.NET.BBND.P2...\n",
      "  Retrieved 929 records\n",
      "✓ Success: 929 records for broadband_subs\n",
      "\n",
      "--- Collecting bank_accounts ---\n",
      "Fetching data for FX.OWN.TOTL.ZS...\n",
      "  Retrieved 139 records\n",
      "✓ Success: 139 records for bank_accounts\n",
      "\n",
      "--- Collecting tertiary_education ---\n",
      "Fetching data for SE.TER.ENRR...\n",
      "  Retrieved 863 records\n",
      "✓ Success: 863 records for tertiary_education\n",
      "\n",
      "--- Collecting urban_population ---\n",
      "Fetching data for SP.URB.TOTL.IN.ZS...\n",
      "  Retrieved 986 records\n",
      "✓ Success: 986 records for urban_population\n",
      "\n",
      "=== Collection Complete ===\n",
      "Total indicators collected: 8\n",
      "Total records: 6157\n",
      "Countries: 71\n",
      "Date range: 2010 - 2023\n"
     ]
    }
   ],
   "source": [
    "# Collect all indicators\n",
    "all_data = []\n",
    "\n",
    "for indicator_name, indicator_code in indicators.items():\n",
    "    print(f\"\\n--- Collecting {indicator_name} ---\")\n",
    "    \n",
    "    # Fetch data for all countries\n",
    "    df = fetch_world_bank_indicator(\n",
    "        indicator_code=indicator_code,\n",
    "        countries='all',\n",
    "        start_year=2010,\n",
    "        end_year=2023\n",
    "    )\n",
    "    \n",
    "    if not df.empty:\n",
    "        df['indicator_name'] = indicator_name\n",
    "        all_data.append(df)\n",
    "        print(f\"✓ Success: {len(df)} records for {indicator_name}\")\n",
    "    else:\n",
    "        print(f\"✗ Failed: No data for {indicator_name}\")\n",
    "    \n",
    "    # Wait a second between requests\n",
    "    time.sleep(1)\n",
    "\n",
    "print(f\"\\n=== Collection Complete ===\")\n",
    "print(f\"Total indicators collected: {len(all_data)}\")\n",
    "\n",
    "# Combine all data into one DataFrame\n",
    "if all_data:\n",
    "    combined_df = pd.concat(all_data, ignore_index=True)\n",
    "    print(f\"Total records: {len(combined_df)}\")\n",
    "    print(f\"Countries: {combined_df['country_code'].nunique()}\")\n",
    "    print(f\"Date range: {combined_df['date'].min()} - {combined_df['date'].max()}\")\n",
    "else:\n",
    "    print(\"No data collected\")"
   ]
  },
  {
   "cell_type": "code",
   "execution_count": 21,
   "id": "17234989-1dda-42ce-8f32-4284197e433e",
   "metadata": {},
   "outputs": [
    {
     "name": "stdout",
     "output_type": "stream",
     "text": [
      "=== DATA COLLECTION SUMMARY ===\n",
      "Total records: 6,157\n",
      "Unique countries: 71\n",
      "Date range: 2010 - 2023\n",
      "Indicators collected: 8\n",
      "\n",
      "=== INDICATORS BREAKDOWN ===\n",
      "indicator_name\n",
      "urban_population      986\n",
      "gdp_per_capita        984\n",
      "gdp_growth            984\n",
      "broadband_subs        929\n",
      "mobile_subs           915\n",
      "tertiary_education    863\n",
      "internet_users        357\n",
      "bank_accounts         139\n",
      "Name: count, dtype: int64\n",
      "\n",
      "=== DATA COMPLETENESS ===\n",
      "                    Total Records  Countries with Data\n",
      "indicator_name                                        \n",
      "bank_accounts                 139                   37\n",
      "broadband_subs                929                   70\n",
      "gdp_growth                    984                   71\n",
      "gdp_per_capita                984                   71\n",
      "internet_users                357                   27\n",
      "mobile_subs                   915                   70\n",
      "tertiary_education            863                   69\n",
      "urban_population              986                   71\n"
     ]
    }
   ],
   "source": [
    "# Assess data \n",
    "print(\"=== DATA COLLECTION SUMMARY ===\")\n",
    "print(f\"Total records: {len(combined_df):,}\")\n",
    "print(f\"Unique countries: {combined_df['country_code'].nunique()}\")\n",
    "print(f\"Date range: {combined_df['date'].min()} - {combined_df['date'].max()}\")\n",
    "print(f\"Indicators collected: {combined_df['indicator_name'].nunique()}\")\n",
    "\n",
    "print(\"\\n=== INDICATORS BREAKDOWN ===\")\n",
    "indicator_counts = combined_df['indicator_name'].value_counts()\n",
    "print(indicator_counts)\n",
    "\n",
    "print(\"\\n=== DATA COMPLETENESS ===\")\n",
    "# Check data per indicator\n",
    "completeness = combined_df.groupby('indicator_name').agg({\n",
    "    'value': 'count',\n",
    "    'country_code': 'nunique'\n",
    "}).round(0)\n",
    "completeness.columns = ['Total Records', 'Countries with Data']\n",
    "print(completeness)"
   ]
  },
  {
   "cell_type": "code",
   "execution_count": 23,
   "id": "5c663eed-6a3f-4d53-b303-57cf5723fa5e",
   "metadata": {},
   "outputs": [
    {
     "data": {
      "text/html": [
       "<div>\n",
       "<style scoped>\n",
       "    .dataframe tbody tr th:only-of-type {\n",
       "        vertical-align: middle;\n",
       "    }\n",
       "\n",
       "    .dataframe tbody tr th {\n",
       "        vertical-align: top;\n",
       "    }\n",
       "\n",
       "    .dataframe thead th {\n",
       "        text-align: right;\n",
       "    }\n",
       "</style>\n",
       "<table border=\"1\" class=\"dataframe\">\n",
       "  <thead>\n",
       "    <tr style=\"text-align: right;\">\n",
       "      <th></th>\n",
       "      <th>country_code</th>\n",
       "      <th>country_name</th>\n",
       "      <th>date</th>\n",
       "      <th>value</th>\n",
       "      <th>indicator</th>\n",
       "      <th>indicator_name</th>\n",
       "    </tr>\n",
       "  </thead>\n",
       "  <tbody>\n",
       "    <tr>\n",
       "      <th>0</th>\n",
       "      <td>ZH</td>\n",
       "      <td>Africa Eastern and Southern</td>\n",
       "      <td>2023</td>\n",
       "      <td>1659.515290</td>\n",
       "      <td>NY.GDP.PCAP.CD</td>\n",
       "      <td>gdp_per_capita</td>\n",
       "    </tr>\n",
       "    <tr>\n",
       "      <th>1</th>\n",
       "      <td>ZH</td>\n",
       "      <td>Africa Eastern and Southern</td>\n",
       "      <td>2022</td>\n",
       "      <td>1628.024526</td>\n",
       "      <td>NY.GDP.PCAP.CD</td>\n",
       "      <td>gdp_per_capita</td>\n",
       "    </tr>\n",
       "    <tr>\n",
       "      <th>2</th>\n",
       "      <td>ZH</td>\n",
       "      <td>Africa Eastern and Southern</td>\n",
       "      <td>2021</td>\n",
       "      <td>1522.590088</td>\n",
       "      <td>NY.GDP.PCAP.CD</td>\n",
       "      <td>gdp_per_capita</td>\n",
       "    </tr>\n",
       "    <tr>\n",
       "      <th>3</th>\n",
       "      <td>ZH</td>\n",
       "      <td>Africa Eastern and Southern</td>\n",
       "      <td>2020</td>\n",
       "      <td>1344.080962</td>\n",
       "      <td>NY.GDP.PCAP.CD</td>\n",
       "      <td>gdp_per_capita</td>\n",
       "    </tr>\n",
       "    <tr>\n",
       "      <th>4</th>\n",
       "      <td>ZH</td>\n",
       "      <td>Africa Eastern and Southern</td>\n",
       "      <td>2019</td>\n",
       "      <td>1493.780445</td>\n",
       "      <td>NY.GDP.PCAP.CD</td>\n",
       "      <td>gdp_per_capita</td>\n",
       "    </tr>\n",
       "    <tr>\n",
       "      <th>5</th>\n",
       "      <td>ZH</td>\n",
       "      <td>Africa Eastern and Southern</td>\n",
       "      <td>2018</td>\n",
       "      <td>1538.924188</td>\n",
       "      <td>NY.GDP.PCAP.CD</td>\n",
       "      <td>gdp_per_capita</td>\n",
       "    </tr>\n",
       "    <tr>\n",
       "      <th>6</th>\n",
       "      <td>ZH</td>\n",
       "      <td>Africa Eastern and Southern</td>\n",
       "      <td>2017</td>\n",
       "      <td>1520.171298</td>\n",
       "      <td>NY.GDP.PCAP.CD</td>\n",
       "      <td>gdp_per_capita</td>\n",
       "    </tr>\n",
       "    <tr>\n",
       "      <th>7</th>\n",
       "      <td>ZH</td>\n",
       "      <td>Africa Eastern and Southern</td>\n",
       "      <td>2016</td>\n",
       "      <td>1329.777824</td>\n",
       "      <td>NY.GDP.PCAP.CD</td>\n",
       "      <td>gdp_per_capita</td>\n",
       "    </tr>\n",
       "    <tr>\n",
       "      <th>8</th>\n",
       "      <td>ZH</td>\n",
       "      <td>Africa Eastern and Southern</td>\n",
       "      <td>2015</td>\n",
       "      <td>1479.564123</td>\n",
       "      <td>NY.GDP.PCAP.CD</td>\n",
       "      <td>gdp_per_capita</td>\n",
       "    </tr>\n",
       "    <tr>\n",
       "      <th>9</th>\n",
       "      <td>ZH</td>\n",
       "      <td>Africa Eastern and Southern</td>\n",
       "      <td>2014</td>\n",
       "      <td>1656.107642</td>\n",
       "      <td>NY.GDP.PCAP.CD</td>\n",
       "      <td>gdp_per_capita</td>\n",
       "    </tr>\n",
       "  </tbody>\n",
       "</table>\n",
       "</div>"
      ],
      "text/plain": [
       "  country_code                 country_name  date        value  \\\n",
       "0           ZH  Africa Eastern and Southern  2023  1659.515290   \n",
       "1           ZH  Africa Eastern and Southern  2022  1628.024526   \n",
       "2           ZH  Africa Eastern and Southern  2021  1522.590088   \n",
       "3           ZH  Africa Eastern and Southern  2020  1344.080962   \n",
       "4           ZH  Africa Eastern and Southern  2019  1493.780445   \n",
       "5           ZH  Africa Eastern and Southern  2018  1538.924188   \n",
       "6           ZH  Africa Eastern and Southern  2017  1520.171298   \n",
       "7           ZH  Africa Eastern and Southern  2016  1329.777824   \n",
       "8           ZH  Africa Eastern and Southern  2015  1479.564123   \n",
       "9           ZH  Africa Eastern and Southern  2014  1656.107642   \n",
       "\n",
       "        indicator  indicator_name  \n",
       "0  NY.GDP.PCAP.CD  gdp_per_capita  \n",
       "1  NY.GDP.PCAP.CD  gdp_per_capita  \n",
       "2  NY.GDP.PCAP.CD  gdp_per_capita  \n",
       "3  NY.GDP.PCAP.CD  gdp_per_capita  \n",
       "4  NY.GDP.PCAP.CD  gdp_per_capita  \n",
       "5  NY.GDP.PCAP.CD  gdp_per_capita  \n",
       "6  NY.GDP.PCAP.CD  gdp_per_capita  \n",
       "7  NY.GDP.PCAP.CD  gdp_per_capita  \n",
       "8  NY.GDP.PCAP.CD  gdp_per_capita  \n",
       "9  NY.GDP.PCAP.CD  gdp_per_capita  "
      ]
     },
     "execution_count": 23,
     "metadata": {},
     "output_type": "execute_result"
    }
   ],
   "source": [
    "combined_df.head(10)"
   ]
  },
  {
   "cell_type": "markdown",
   "id": "525144b9-cf7e-4199-8210-5bfcf1d3f347",
   "metadata": {},
   "source": [
    "## Data Quality Insights:\n",
    "- Strong indicators: GDP, urban population, mobile/broadband (900+ records)\n",
    "- Weak indicators: Bank accounts (139), internet users (357) - limited country coverage\n",
    "- 71 countries with data (good sample size)"
   ]
  },
  {
   "cell_type": "code",
   "execution_count": 26,
   "id": "dea302c0-3b0b-47a4-82ff-cc27b5532c7a",
   "metadata": {},
   "outputs": [
    {
     "name": "stdout",
     "output_type": "stream",
     "text": [
      "Saving data backup...\n",
      "✓ Saved to data/world_bank_raw_data.csv\n",
      "✓ Saved indicators reference\n"
     ]
    }
   ],
   "source": [
    "# Save raw data CSV in data folder\n",
    "print(\"Saving data backup...\")\n",
    "combined_df.to_csv('../data/world_bank_raw_data.csv', index=False)\n",
    "print(\"✓ Saved to data/world_bank_raw_data.csv\")\n",
    "\n",
    "# Also save indicators list\n",
    "indicators_df = pd.DataFrame(list(indicators.items()), \n",
    "                           columns=['indicator_name', 'indicator_code'])\n",
    "indicators_df.to_csv('../data/indicators_reference.csv', index=False)\n",
    "print(\"✓ Saved indicators reference\")"
   ]
  },
  {
   "cell_type": "code",
   "execution_count": 28,
   "id": "563174c4-2705-4f0d-b4bc-2f89b0b371de",
   "metadata": {},
   "outputs": [
    {
     "name": "stdout",
     "output_type": "stream",
     "text": [
      "Uploading to BigQuery...\n"
     ]
    },
    {
     "name": "stderr",
     "output_type": "stream",
     "text": [
      "/var/folders/0t/861tcrxd0m3dvztgzk5nkr3h0000gn/T/ipykernel_6576/2567285009.py:7: FutureWarning: to_gbq is deprecated and will be removed in a future version. Please use pandas_gbq.to_gbq instead: https://pandas-gbq.readthedocs.io/en/latest/api.html#pandas_gbq.to_gbq\n",
      "  job = combined_df.to_gbq(\n",
      "100%|███████████████████████████████████████████| 1/1 [00:00<00:00, 7810.62it/s]"
     ]
    },
    {
     "name": "stdout",
     "output_type": "stream",
     "text": [
      "✓ Data uploaded to BigQuery!\n",
      "Table: digital-economy-analysis.world_bank_data.raw_indicators\n"
     ]
    },
    {
     "name": "stderr",
     "output_type": "stream",
     "text": [
      "\n"
     ]
    }
   ],
   "source": [
    "print(\"Uploading to BigQuery...\")\n",
    "\n",
    "# Configure upload\n",
    "table_id = f\"{client.project}.world_bank_data.raw_indicators\"\n",
    "\n",
    "# Upload data\n",
    "job = combined_df.to_gbq(\n",
    "    destination_table='world_bank_data.raw_indicators',\n",
    "    project_id='digital-economy-analysis',\n",
    "    if_exists='replace',\n",
    "    progress_bar=True\n",
    ")\n",
    "\n",
    "print(\"✓ Data uploaded to BigQuery!\")\n",
    "print(f\"Table: {table_id}\")"
   ]
  },
  {
   "cell_type": "code",
   "execution_count": 32,
   "id": "263b133a-199e-4049-88bc-15e8f283568b",
   "metadata": {},
   "outputs": [],
   "source": [
    "# Import Library\n",
    "import pandas_gbq"
   ]
  },
  {
   "cell_type": "code",
   "execution_count": 34,
   "id": "51219a23-3d3e-4caf-b6e9-6cdefdadb9d6",
   "metadata": {},
   "outputs": [
    {
     "name": "stdout",
     "output_type": "stream",
     "text": [
      "Verifying BigQuery upload...\n",
      "Downloading: 100%|\u001b[32m█████████████████████████████████████████████████████████████\u001b[0m|\u001b[0m\n",
      "\n",
      "BigQuery Table Summary:\n",
      "       indicator_name  record_count  country_count  earliest_year  latest_year\n",
      "0    urban_population           986             71           2010         2023\n",
      "1      gdp_per_capita           984             71           2010         2023\n",
      "2          gdp_growth           984             71           2010         2023\n",
      "3      broadband_subs           929             70           2010         2023\n",
      "4         mobile_subs           915             70           2010         2023\n",
      "5  tertiary_education           863             69           2010         2023\n",
      "6      internet_users           357             27           2010         2023\n",
      "7       bank_accounts           139             37           2011         2022\n"
     ]
    }
   ],
   "source": [
    "# Verify data in BigQuery\n",
    "print(\"Verifying BigQuery upload...\")\n",
    "\n",
    "query = \"\"\"\n",
    "SELECT \n",
    "    indicator_name,\n",
    "    COUNT(*) as record_count,\n",
    "    COUNT(DISTINCT country_code) as country_count,\n",
    "    MIN(date) as earliest_year,\n",
    "    MAX(date) as latest_year\n",
    "FROM `digital-economy-analysis.world_bank_data.raw_indicators`\n",
    "GROUP BY indicator_name\n",
    "ORDER BY record_count DESC\n",
    "\"\"\"\n",
    "\n",
    "result_df = pandas_gbq.read_gbq(query, project_id='digital-economy-analysis')\n",
    "print(\"\\nBigQuery Table Summary:\")\n",
    "print(result_df)"
   ]
  },
  {
   "cell_type": "code",
   "execution_count": null,
   "id": "98aaffd3-5a31-4c37-9367-03f972a1e618",
   "metadata": {},
   "outputs": [],
   "source": [
    "# Record progress\n",
    "print(\"Phase 2 Complete: Data Collection\")\n",
    "print(\"- ✅ World Bank API integration\")\n",
    "print(\"- ✅ 6,157 records collected\") \n",
    "print(\"- ✅ Data uploaded to BigQuery\")\n",
    "print(\"- ✅ Data backup saved locally\")"
   ]
  },
  {
   "cell_type": "code",
   "execution_count": null,
   "id": "fb56e095-7cf6-47b8-afd3-faf41e565f8d",
   "metadata": {},
   "outputs": [],
   "source": []
  }
 ],
 "metadata": {
  "kernelspec": {
   "display_name": "Python [conda env:base] *",
   "language": "python",
   "name": "conda-base-py"
  },
  "language_info": {
   "codemirror_mode": {
    "name": "ipython",
    "version": 3
   },
   "file_extension": ".py",
   "mimetype": "text/x-python",
   "name": "python",
   "nbconvert_exporter": "python",
   "pygments_lexer": "ipython3",
   "version": "3.12.7"
  }
 },
 "nbformat": 4,
 "nbformat_minor": 5
}
