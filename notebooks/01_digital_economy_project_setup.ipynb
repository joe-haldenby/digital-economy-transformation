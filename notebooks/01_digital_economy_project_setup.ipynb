{
 "cells": [
  {
   "cell_type": "code",
   "execution_count": 1,
   "id": "734dba3b-2b38-4d06-8d22-35bd9bf5780f",
   "metadata": {},
   "outputs": [
    {
     "name": "stdout",
     "output_type": "stream",
     "text": [
      "All packages imported successfully!\n",
      "Pandas version: 2.2.2\n",
      "Requests version: 2.32.3\n"
     ]
    }
   ],
   "source": [
    "# Digital Economy Transformation Analysis - Project Setup\n",
    "# Testing environment and imports\n",
    "\n",
    "import pandas as pd\n",
    "import requests\n",
    "import matplotlib.pyplot as plt\n",
    "import seaborn as sns\n",
    "from google.cloud import bigquery\n",
    "\n",
    "print(\"All packages imported successfully!\")\n",
    "print(f\"Pandas version: {pd.__version__}\")\n",
    "print(f\"Requests version: {requests.__version__}\")"
   ]
  },
  {
   "cell_type": "code",
   "execution_count": null,
   "id": "c0635743-5396-4d36-beeb-142620ed4692",
   "metadata": {},
   "outputs": [],
   "source": [
    "All packages imported successfully!\n",
    "Pandas version: 2.2.2\n",
    "Requests version: 2.32.3"
   ]
  },
  {
   "cell_type": "code",
   "execution_count": 3,
   "id": "111e5d8f-a8af-4366-a33c-3fb81b914fea",
   "metadata": {},
   "outputs": [
    {
     "name": "stdout",
     "output_type": "stream",
     "text": [
      "Status Code: 200\n",
      "Data received: 4 records\n",
      "Sample record: {'indicator': {'id': 'NY.GDP.PCAP.CD', 'value': 'GDP per capita (current US$)'}, 'country': {'id': 'US', 'value': 'United States'}, 'countryiso3code': 'USA', 'date': '2023', 'value': 82769.4122114216, 'unit': '', 'obs_status': '', 'decimal': 1}\n"
     ]
    },
    {
     "data": {
      "text/plain": [
       "True"
      ]
     },
     "execution_count": 3,
     "metadata": {},
     "output_type": "execute_result"
    }
   ],
   "source": [
    "# Test World Bank API with simple call\n",
    "import requests\n",
    "\n",
    "def test_world_bank_api():\n",
    "    url = \"https://api.worldbank.org/v2/country/USA/indicator/NY.GDP.PCAP.CD\"\n",
    "    params = {'format': 'json', 'date': '2020:2023'}\n",
    "    \n",
    "    response = requests.get(url, params=params)\n",
    "    print(f\"Status Code: {response.status_code}\")\n",
    "    \n",
    "    if response.status_code == 200:\n",
    "        data = response.json()\n",
    "        print(f\"Data received: {len(data[1])} records\")\n",
    "        print(\"Sample record:\", data[1][0])\n",
    "        return True\n",
    "    return False\n",
    "\n",
    "# Test the API\n",
    "test_world_bank_api()"
   ]
  },
  {
   "cell_type": "code",
   "execution_count": null,
   "id": "707693ce-b542-41f3-9588-10985ffeb646",
   "metadata": {},
   "outputs": [],
   "source": []
  }
 ],
 "metadata": {
  "kernelspec": {
   "display_name": "Python [conda env:base] *",
   "language": "python",
   "name": "conda-base-py"
  },
  "language_info": {
   "codemirror_mode": {
    "name": "ipython",
    "version": 3
   },
   "file_extension": ".py",
   "mimetype": "text/x-python",
   "name": "python",
   "nbconvert_exporter": "python",
   "pygments_lexer": "ipython3",
   "version": "3.12.7"
  }
 },
 "nbformat": 4,
 "nbformat_minor": 5
}
